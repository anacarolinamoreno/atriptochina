{
 "cells": [
  {
   "cell_type": "markdown",
   "id": "0c8b83f1-0bd1-430f-aab5-35c61a5793c1",
   "metadata": {
    "editable": true,
    "slideshow": {
     "slide_type": ""
    },
    "tags": []
   },
   "source": [
    "# Fact-checking raw data\n",
    "Making sure the LLM didn't corrupt the content from the data source [while creating the dictionary](../01_prompt/prompt.md)"
   ]
  },
  {
   "cell_type": "markdown",
   "id": "28b89ce9-272b-48b1-98fc-54cf90cfd9ed",
   "metadata": {},
   "source": [
    "### Part 1: fetching and preparing the data"
   ]
  },
  {
   "cell_type": "code",
   "execution_count": 99,
   "id": "9386765f-27c9-49c3-bc68-e6377cf4bd18",
   "metadata": {},
   "outputs": [],
   "source": [
    "# Import libraries\n",
    "import pandas as pd\n",
    "import json\n",
    "import warnings"
   ]
  },
  {
   "cell_type": "code",
   "execution_count": 100,
   "id": "c6f76f3a-4aa4-403c-bd13-af3131c5e10d",
   "metadata": {},
   "outputs": [
    {
     "data": {
      "text/html": [
       "<div>\n",
       "<style scoped>\n",
       "    .dataframe tbody tr th:only-of-type {\n",
       "        vertical-align: middle;\n",
       "    }\n",
       "\n",
       "    .dataframe tbody tr th {\n",
       "        vertical-align: top;\n",
       "    }\n",
       "\n",
       "    .dataframe thead th {\n",
       "        text-align: right;\n",
       "    }\n",
       "</style>\n",
       "<table border=\"1\" class=\"dataframe\">\n",
       "  <thead>\n",
       "    <tr style=\"text-align: right;\">\n",
       "      <th></th>\n",
       "      <th>data</th>\n",
       "      <th>cidade</th>\n",
       "      <th>descricao</th>\n",
       "      <th>valor</th>\n",
       "      <th>quem_pagou</th>\n",
       "      <th>categoria</th>\n",
       "    </tr>\n",
       "  </thead>\n",
       "  <tbody>\n",
       "    <tr>\n",
       "      <th>0</th>\n",
       "      <td>12/05</td>\n",
       "      <td>Pequim</td>\n",
       "      <td>Didi pro templo do céu (tava fechado)</td>\n",
       "      <td>38.42</td>\n",
       "      <td>Carol</td>\n",
       "      <td>Transporte</td>\n",
       "    </tr>\n",
       "    <tr>\n",
       "      <th>1</th>\n",
       "      <td>12/05</td>\n",
       "      <td>Pequim</td>\n",
       "      <td>Didi pro shopping das Pérolas (Hungqiao Market)</td>\n",
       "      <td>13.30</td>\n",
       "      <td>Carol</td>\n",
       "      <td>Transporte</td>\n",
       "    </tr>\n",
       "    <tr>\n",
       "      <th>2</th>\n",
       "      <td>12/05</td>\n",
       "      <td>Pequim</td>\n",
       "      <td>Colar e brincos Carol + brinco presente da Lara</td>\n",
       "      <td>170.00</td>\n",
       "      <td>Carol</td>\n",
       "      <td>Compras/Presentes</td>\n",
       "    </tr>\n",
       "    <tr>\n",
       "      <th>3</th>\n",
       "      <td>12/05</td>\n",
       "      <td>Pequim</td>\n",
       "      <td>Didi pra Qianmen</td>\n",
       "      <td>14.80</td>\n",
       "      <td>Carol</td>\n",
       "      <td>Transporte</td>\n",
       "    </tr>\n",
       "    <tr>\n",
       "      <th>4</th>\n",
       "      <td>12/05</td>\n",
       "      <td>Pequim</td>\n",
       "      <td>Almoço Qianmen</td>\n",
       "      <td>64.00</td>\n",
       "      <td>Carol</td>\n",
       "      <td>Alimentação</td>\n",
       "    </tr>\n",
       "    <tr>\n",
       "      <th>...</th>\n",
       "      <td>...</td>\n",
       "      <td>...</td>\n",
       "      <td>...</td>\n",
       "      <td>...</td>\n",
       "      <td>...</td>\n",
       "      <td>...</td>\n",
       "    </tr>\n",
       "    <tr>\n",
       "      <th>124</th>\n",
       "      <td>29/05</td>\n",
       "      <td>Lhasa</td>\n",
       "      <td>Didi para Bokar</td>\n",
       "      <td>NaN</td>\n",
       "      <td>Diva</td>\n",
       "      <td>Transporte</td>\n",
       "    </tr>\n",
       "    <tr>\n",
       "      <th>125</th>\n",
       "      <td>29/05</td>\n",
       "      <td>Lhasa</td>\n",
       "      <td>Almoço</td>\n",
       "      <td>33.00</td>\n",
       "      <td>Diva</td>\n",
       "      <td>Alimentação</td>\n",
       "    </tr>\n",
       "    <tr>\n",
       "      <th>126</th>\n",
       "      <td>29/05</td>\n",
       "      <td>Lhasa</td>\n",
       "      <td>Compras Bokar Supermarket</td>\n",
       "      <td>105.00</td>\n",
       "      <td>Carol</td>\n",
       "      <td>Compras/Presentes</td>\n",
       "    </tr>\n",
       "    <tr>\n",
       "      <th>127</th>\n",
       "      <td>29/05</td>\n",
       "      <td>Lhasa</td>\n",
       "      <td>Massagem no aeroporto</td>\n",
       "      <td>30.00</td>\n",
       "      <td>Diva</td>\n",
       "      <td>Compras/Presentes</td>\n",
       "    </tr>\n",
       "    <tr>\n",
       "      <th>128</th>\n",
       "      <td>29/05</td>\n",
       "      <td>Pequim</td>\n",
       "      <td>Taxi do aeroporto</td>\n",
       "      <td>102.00</td>\n",
       "      <td>Paula</td>\n",
       "      <td>Transporte</td>\n",
       "    </tr>\n",
       "  </tbody>\n",
       "</table>\n",
       "<p>129 rows × 6 columns</p>\n",
       "</div>"
      ],
      "text/plain": [
       "      data  cidade                                        descricao   valor  \\\n",
       "0    12/05  Pequim            Didi pro templo do céu (tava fechado)   38.42   \n",
       "1    12/05  Pequim  Didi pro shopping das Pérolas (Hungqiao Market)   13.30   \n",
       "2    12/05  Pequim  Colar e brincos Carol + brinco presente da Lara  170.00   \n",
       "3    12/05  Pequim                                 Didi pra Qianmen   14.80   \n",
       "4    12/05  Pequim                                   Almoço Qianmen   64.00   \n",
       "..     ...     ...                                              ...     ...   \n",
       "124  29/05   Lhasa                                  Didi para Bokar     NaN   \n",
       "125  29/05   Lhasa                                           Almoço   33.00   \n",
       "126  29/05   Lhasa                        Compras Bokar Supermarket  105.00   \n",
       "127  29/05   Lhasa                            Massagem no aeroporto   30.00   \n",
       "128  29/05  Pequim                                Taxi do aeroporto  102.00   \n",
       "\n",
       "    quem_pagou          categoria  \n",
       "0        Carol         Transporte  \n",
       "1        Carol         Transporte  \n",
       "2        Carol  Compras/Presentes  \n",
       "3        Carol         Transporte  \n",
       "4        Carol        Alimentação  \n",
       "..         ...                ...  \n",
       "124       Diva         Transporte  \n",
       "125       Diva        Alimentação  \n",
       "126      Carol  Compras/Presentes  \n",
       "127       Diva  Compras/Presentes  \n",
       "128      Paula         Transporte  \n",
       "\n",
       "[129 rows x 6 columns]"
      ]
     },
     "execution_count": 100,
     "metadata": {},
     "output_type": "execute_result"
    }
   ],
   "source": [
    "# Open raw dataset and save it in an object called \"raw\"\n",
    "raw = pd.read_json(\"../00_raw/china_raw.json\", dtype={\"cidade\": str})\n",
    "raw"
   ]
  },
  {
   "cell_type": "code",
   "execution_count": 101,
   "id": "c575a874-2660-4a81-abba-2e962ccae46e",
   "metadata": {},
   "outputs": [
    {
     "name": "stdout",
     "output_type": "stream",
     "text": [
      "<class 'pandas.core.frame.DataFrame'>\n",
      "RangeIndex: 129 entries, 0 to 128\n",
      "Data columns (total 6 columns):\n",
      " #   Column      Non-Null Count  Dtype  \n",
      "---  ------      --------------  -----  \n",
      " 0   data        129 non-null    object \n",
      " 1   cidade      129 non-null    object \n",
      " 2   descricao   129 non-null    object \n",
      " 3   valor       122 non-null    float64\n",
      " 4   quem_pagou  129 non-null    object \n",
      " 5   categoria   129 non-null    object \n",
      "dtypes: float64(1), object(5)\n",
      "memory usage: 6.2+ KB\n"
     ]
    }
   ],
   "source": [
    "# Inspect raw dataset\n",
    "raw.info()"
   ]
  },
  {
   "cell_type": "code",
   "execution_count": 102,
   "id": "18b8e5ed-125a-474c-9772-a7a347d0654b",
   "metadata": {},
   "outputs": [
    {
     "data": {
      "text/html": [
       "<div>\n",
       "<style scoped>\n",
       "    .dataframe tbody tr th:only-of-type {\n",
       "        vertical-align: middle;\n",
       "    }\n",
       "\n",
       "    .dataframe tbody tr th {\n",
       "        vertical-align: top;\n",
       "    }\n",
       "\n",
       "    .dataframe thead th {\n",
       "        text-align: right;\n",
       "    }\n",
       "</style>\n",
       "<table border=\"1\" class=\"dataframe\">\n",
       "  <thead>\n",
       "    <tr style=\"text-align: right;\">\n",
       "      <th></th>\n",
       "      <th>day</th>\n",
       "      <th>city</th>\n",
       "      <th>expense</th>\n",
       "      <th>price</th>\n",
       "      <th>payment_source</th>\n",
       "      <th>category</th>\n",
       "    </tr>\n",
       "  </thead>\n",
       "  <tbody>\n",
       "    <tr>\n",
       "      <th>0</th>\n",
       "      <td>12/05</td>\n",
       "      <td>Pequim</td>\n",
       "      <td>Didi pro templo do céu (tava fechado)</td>\n",
       "      <td>38.42</td>\n",
       "      <td>Carol</td>\n",
       "      <td>Transporte</td>\n",
       "    </tr>\n",
       "    <tr>\n",
       "      <th>1</th>\n",
       "      <td>12/05</td>\n",
       "      <td>Pequim</td>\n",
       "      <td>Didi pro shopping das Pérolas (Hungqiao Market)</td>\n",
       "      <td>13.30</td>\n",
       "      <td>Carol</td>\n",
       "      <td>Transporte</td>\n",
       "    </tr>\n",
       "    <tr>\n",
       "      <th>2</th>\n",
       "      <td>12/05</td>\n",
       "      <td>Pequim</td>\n",
       "      <td>Colar e brincos Carol + brinco presente da Lara</td>\n",
       "      <td>170.00</td>\n",
       "      <td>Carol</td>\n",
       "      <td>Compras/Presentes</td>\n",
       "    </tr>\n",
       "  </tbody>\n",
       "</table>\n",
       "</div>"
      ],
      "text/plain": [
       "     day    city                                          expense   price  \\\n",
       "0  12/05  Pequim            Didi pro templo do céu (tava fechado)   38.42   \n",
       "1  12/05  Pequim  Didi pro shopping das Pérolas (Hungqiao Market)   13.30   \n",
       "2  12/05  Pequim  Colar e brincos Carol + brinco presente da Lara  170.00   \n",
       "\n",
       "  payment_source           category  \n",
       "0          Carol         Transporte  \n",
       "1          Carol         Transporte  \n",
       "2          Carol  Compras/Presentes  "
      ]
     },
     "execution_count": 102,
     "metadata": {},
     "output_type": "execute_result"
    }
   ],
   "source": [
    "# Translate and improve the column names to English to avoid confusion using \"rename\"\n",
    "raw.rename(columns={\"data\": \"day\",\n",
    "                    \"cidade\": \"city\",\n",
    "                    \"descricao\": \"expense\",\n",
    "                    \"valor\": \"price\",\n",
    "                    \"quem_pagou\": \"payment_source\",\n",
    "                    \"categoria\": \"category\"\n",
    "                   }, inplace=True)\n",
    "raw.head(3)"
   ]
  },
  {
   "cell_type": "code",
   "execution_count": 103,
   "id": "68e69a1b-d03b-42f1-bef6-d0510ef6a4f3",
   "metadata": {},
   "outputs": [
    {
     "data": {
      "text/html": [
       "<div>\n",
       "<style scoped>\n",
       "    .dataframe tbody tr th:only-of-type {\n",
       "        vertical-align: middle;\n",
       "    }\n",
       "\n",
       "    .dataframe tbody tr th {\n",
       "        vertical-align: top;\n",
       "    }\n",
       "\n",
       "    .dataframe thead th {\n",
       "        text-align: right;\n",
       "    }\n",
       "</style>\n",
       "<table border=\"1\" class=\"dataframe\">\n",
       "  <thead>\n",
       "    <tr style=\"text-align: right;\">\n",
       "      <th></th>\n",
       "      <th>day</th>\n",
       "      <th>city</th>\n",
       "      <th>expense</th>\n",
       "      <th>price</th>\n",
       "      <th>payment_source</th>\n",
       "      <th>category</th>\n",
       "    </tr>\n",
       "  </thead>\n",
       "  <tbody>\n",
       "    <tr>\n",
       "      <th>0</th>\n",
       "      <td>12-May</td>\n",
       "      <td>Pequim</td>\n",
       "      <td>Didi pro templo do céu (tava fechado)</td>\n",
       "      <td>38.42</td>\n",
       "      <td>Carol</td>\n",
       "      <td>Transporte</td>\n",
       "    </tr>\n",
       "    <tr>\n",
       "      <th>1</th>\n",
       "      <td>12-May</td>\n",
       "      <td>Pequim</td>\n",
       "      <td>Didi pro shopping das Pérolas (Hungqiao Market)</td>\n",
       "      <td>13.30</td>\n",
       "      <td>Carol</td>\n",
       "      <td>Transporte</td>\n",
       "    </tr>\n",
       "    <tr>\n",
       "      <th>2</th>\n",
       "      <td>12-May</td>\n",
       "      <td>Pequim</td>\n",
       "      <td>Colar e brincos Carol + brinco presente da Lara</td>\n",
       "      <td>170.00</td>\n",
       "      <td>Carol</td>\n",
       "      <td>Compras/Presentes</td>\n",
       "    </tr>\n",
       "    <tr>\n",
       "      <th>3</th>\n",
       "      <td>12-May</td>\n",
       "      <td>Pequim</td>\n",
       "      <td>Didi pra Qianmen</td>\n",
       "      <td>14.80</td>\n",
       "      <td>Carol</td>\n",
       "      <td>Transporte</td>\n",
       "    </tr>\n",
       "    <tr>\n",
       "      <th>4</th>\n",
       "      <td>12-May</td>\n",
       "      <td>Pequim</td>\n",
       "      <td>Almoço Qianmen</td>\n",
       "      <td>64.00</td>\n",
       "      <td>Carol</td>\n",
       "      <td>Alimentação</td>\n",
       "    </tr>\n",
       "  </tbody>\n",
       "</table>\n",
       "</div>"
      ],
      "text/plain": [
       "      day    city                                          expense   price  \\\n",
       "0  12-May  Pequim            Didi pro templo do céu (tava fechado)   38.42   \n",
       "1  12-May  Pequim  Didi pro shopping das Pérolas (Hungqiao Market)   13.30   \n",
       "2  12-May  Pequim  Colar e brincos Carol + brinco presente da Lara  170.00   \n",
       "3  12-May  Pequim                                 Didi pra Qianmen   14.80   \n",
       "4  12-May  Pequim                                   Almoço Qianmen   64.00   \n",
       "\n",
       "  payment_source           category  \n",
       "0          Carol         Transporte  \n",
       "1          Carol         Transporte  \n",
       "2          Carol  Compras/Presentes  \n",
       "3          Carol         Transporte  \n",
       "4          Carol        Alimentação  "
      ]
     },
     "execution_count": 103,
     "metadata": {},
     "output_type": "execute_result"
    }
   ],
   "source": [
    "# Make the \"day\" column look better using \"replace\"\n",
    "# Use .to_frame() to prevent pandas from turning your dataframe into a Series\n",
    "raw.day = raw.day.str.replace(\"/05\", \"-May\").to_frame()\n",
    "raw.head()"
   ]
  },
  {
   "cell_type": "markdown",
   "id": "4bba1538-07ea-474e-a05d-f13521b25da0",
   "metadata": {},
   "source": [
    "### Part 2: fact-checking the LLM work"
   ]
  },
  {
   "cell_type": "markdown",
   "id": "8a8f6002-cb9c-4aba-b13f-a0399879c56a",
   "metadata": {},
   "source": [
    "#### 2.1: Price values\n",
    "When making the table, DeepSeek had already turned the column into a float. And it had already detected values that weren't adequate. For example, **\"12.XX\"**, which I wrote when I didn't remember how many cents. They were replaces by the word **\"None\"**.\n",
    "<br><br>\n",
    "When it turned the dictionary into a json, DeepSeek replaced \"None\" with **null**."
   ]
  },
  {
   "cell_type": "code",
   "execution_count": 104,
   "id": "30e13dd7-e066-4af5-8611-d24ef628bd24",
   "metadata": {
    "editable": true,
    "slideshow": {
     "slide_type": ""
    },
    "tags": []
   },
   "outputs": [
    {
     "data": {
      "text/html": [
       "<div>\n",
       "<style scoped>\n",
       "    .dataframe tbody tr th:only-of-type {\n",
       "        vertical-align: middle;\n",
       "    }\n",
       "\n",
       "    .dataframe tbody tr th {\n",
       "        vertical-align: top;\n",
       "    }\n",
       "\n",
       "    .dataframe thead th {\n",
       "        text-align: right;\n",
       "    }\n",
       "</style>\n",
       "<table border=\"1\" class=\"dataframe\">\n",
       "  <thead>\n",
       "    <tr style=\"text-align: right;\">\n",
       "      <th></th>\n",
       "      <th>day</th>\n",
       "      <th>city</th>\n",
       "      <th>expense</th>\n",
       "      <th>price</th>\n",
       "      <th>payment_source</th>\n",
       "      <th>category</th>\n",
       "    </tr>\n",
       "  </thead>\n",
       "  <tbody>\n",
       "    <tr>\n",
       "      <th>51</th>\n",
       "      <td>17-May</td>\n",
       "      <td>Pequim</td>\n",
       "      <td>Metrô</td>\n",
       "      <td>NaN</td>\n",
       "      <td>Diva</td>\n",
       "      <td>Transporte</td>\n",
       "    </tr>\n",
       "    <tr>\n",
       "      <th>96</th>\n",
       "      <td>22-May</td>\n",
       "      <td>Pequim</td>\n",
       "      <td>Didi para Tiannanmen</td>\n",
       "      <td>NaN</td>\n",
       "      <td>Diva</td>\n",
       "      <td>Transporte</td>\n",
       "    </tr>\n",
       "    <tr>\n",
       "      <th>97</th>\n",
       "      <td>22-May</td>\n",
       "      <td>Pequim</td>\n",
       "      <td>Almoço no museu</td>\n",
       "      <td>NaN</td>\n",
       "      <td>Diva</td>\n",
       "      <td>Alimentação</td>\n",
       "    </tr>\n",
       "    <tr>\n",
       "      <th>98</th>\n",
       "      <td>22-May</td>\n",
       "      <td>Pequim</td>\n",
       "      <td>Comprinhas museu</td>\n",
       "      <td>NaN</td>\n",
       "      <td>Diva</td>\n",
       "      <td>Compras/Presentes</td>\n",
       "    </tr>\n",
       "    <tr>\n",
       "      <th>102</th>\n",
       "      <td>24-May</td>\n",
       "      <td>Lhasa</td>\n",
       "      <td>Didi pro aeroporto</td>\n",
       "      <td>NaN</td>\n",
       "      <td>Carol</td>\n",
       "      <td>Transporte</td>\n",
       "    </tr>\n",
       "    <tr>\n",
       "      <th>111</th>\n",
       "      <td>27-May</td>\n",
       "      <td>Shigatse</td>\n",
       "      <td>Jantar</td>\n",
       "      <td>NaN</td>\n",
       "      <td>Carol</td>\n",
       "      <td>Alimentação</td>\n",
       "    </tr>\n",
       "    <tr>\n",
       "      <th>124</th>\n",
       "      <td>29-May</td>\n",
       "      <td>Lhasa</td>\n",
       "      <td>Didi para Bokar</td>\n",
       "      <td>NaN</td>\n",
       "      <td>Diva</td>\n",
       "      <td>Transporte</td>\n",
       "    </tr>\n",
       "  </tbody>\n",
       "</table>\n",
       "</div>"
      ],
      "text/plain": [
       "        day      city               expense  price payment_source  \\\n",
       "51   17-May    Pequim                 Metrô    NaN           Diva   \n",
       "96   22-May    Pequim  Didi para Tiannanmen    NaN           Diva   \n",
       "97   22-May    Pequim       Almoço no museu    NaN           Diva   \n",
       "98   22-May    Pequim      Comprinhas museu    NaN           Diva   \n",
       "102  24-May     Lhasa    Didi pro aeroporto    NaN          Carol   \n",
       "111  27-May  Shigatse                Jantar    NaN          Carol   \n",
       "124  29-May     Lhasa       Didi para Bokar    NaN           Diva   \n",
       "\n",
       "              category  \n",
       "51          Transporte  \n",
       "96          Transporte  \n",
       "97         Alimentação  \n",
       "98   Compras/Presentes  \n",
       "102         Transporte  \n",
       "111        Alimentação  \n",
       "124         Transporte  "
      ]
     },
     "execution_count": 104,
     "metadata": {},
     "output_type": "execute_result"
    }
   ],
   "source": [
    "# Check how many rows in the \"price\" columns are now NA:\n",
    "no_price = raw.loc[pd.isna(raw[\"price\"])]\n",
    "no_price"
   ]
  },
  {
   "cell_type": "markdown",
   "id": "c0214098-db84-4012-9e6d-ac3934a83fb4",
   "metadata": {
    "editable": true,
    "slideshow": {
     "slide_type": ""
    },
    "tags": []
   },
   "source": [
    "There aren't many results, but it's clear most are from May 22nd. We can manually use ctrl+F on the raw data to check a couple of samples. For example: \"Didi para Tiannanmen\":\n",
    "<br><br>\n",
    "![image](../02_check/check1.png)\n",
    "<br><br>\n",
    "From the screenshot we can also find the May 24th expense without a value, but there are a couple from May 23rd with very little information. Let's search for it to learn more:"
   ]
  },
  {
   "cell_type": "code",
   "execution_count": 105,
   "id": "866b8f89-309a-49b7-af80-aaed2122f14d",
   "metadata": {
    "editable": true,
    "slideshow": {
     "slide_type": ""
    },
    "tags": []
   },
   "outputs": [
    {
     "data": {
      "text/html": [
       "<div>\n",
       "<style scoped>\n",
       "    .dataframe tbody tr th:only-of-type {\n",
       "        vertical-align: middle;\n",
       "    }\n",
       "\n",
       "    .dataframe tbody tr th {\n",
       "        vertical-align: top;\n",
       "    }\n",
       "\n",
       "    .dataframe thead th {\n",
       "        text-align: right;\n",
       "    }\n",
       "</style>\n",
       "<table border=\"1\" class=\"dataframe\">\n",
       "  <thead>\n",
       "    <tr style=\"text-align: right;\">\n",
       "      <th></th>\n",
       "      <th>day</th>\n",
       "      <th>city</th>\n",
       "      <th>expense</th>\n",
       "      <th>price</th>\n",
       "      <th>payment_source</th>\n",
       "      <th>category</th>\n",
       "    </tr>\n",
       "  </thead>\n",
       "  <tbody>\n",
       "    <tr>\n",
       "      <th>100</th>\n",
       "      <td>23-May</td>\n",
       "      <td>Pequim</td>\n",
       "      <td>Metrô pra Cidade Proibida</td>\n",
       "      <td>9.0</td>\n",
       "      <td>Carol</td>\n",
       "      <td>Transporte</td>\n",
       "    </tr>\n",
       "    <tr>\n",
       "      <th>101</th>\n",
       "      <td>23-May</td>\n",
       "      <td>Pequim</td>\n",
       "      <td>Entrada Cidade Proibida</td>\n",
       "      <td>60.0</td>\n",
       "      <td>Diva</td>\n",
       "      <td>Ingressos</td>\n",
       "    </tr>\n",
       "  </tbody>\n",
       "</table>\n",
       "</div>"
      ],
      "text/plain": [
       "        day    city                    expense  price payment_source  \\\n",
       "100  23-May  Pequim  Metrô pra Cidade Proibida    9.0          Carol   \n",
       "101  23-May  Pequim    Entrada Cidade Proibida   60.0           Diva   \n",
       "\n",
       "       category  \n",
       "100  Transporte  \n",
       "101   Ingressos  "
      ]
     },
     "execution_count": 105,
     "metadata": {},
     "output_type": "execute_result"
    }
   ],
   "source": [
    "# Filter to get only the rows from May 23rd\n",
    "may_23 = raw[raw[\"day\"] == \"23-May\"]\n",
    "may_23"
   ]
  },
  {
   "cell_type": "markdown",
   "id": "a5d550eb-e2d4-4e9e-a58f-b889c24abffa",
   "metadata": {},
   "source": [
    "Comparing with the actual notes:\n",
    "![image](../02_check/check2.png)\n",
    "<br> So clearly DeepSeek made a couple of editorial decisions:\n",
    "<br><br>\n",
    "1- The subway ride to the Forbidden City was either 8 or 10 yuan, it simply calculated the average. That's incorrect because it was the total for two people, but it's not that imprecise or statistically relevant to inflate or deflate our totals by much. So we can let it slide.\n",
    "<br><br>\n",
    "2- Secondly, there are three lines of incoherent notes about shopping and the metro ride home. There are no other information such as who paid for it and how much it cost. DeepSeek just decided to ignore them. Since I can't remember the information missing, and since I'm not planning on diving into how incomplete the dataset is, I'll have to agree it's a little useless for the analysis.\n",
    "<br><br>\n",
    "Now let's try the same for May 24th, which also had interesting ways of showing prices:"
   ]
  },
  {
   "cell_type": "code",
   "execution_count": 106,
   "id": "3b67b6d1-83f8-4af7-8118-fbb21f052f81",
   "metadata": {},
   "outputs": [
    {
     "data": {
      "text/html": [
       "<div>\n",
       "<style scoped>\n",
       "    .dataframe tbody tr th:only-of-type {\n",
       "        vertical-align: middle;\n",
       "    }\n",
       "\n",
       "    .dataframe tbody tr th {\n",
       "        vertical-align: top;\n",
       "    }\n",
       "\n",
       "    .dataframe thead th {\n",
       "        text-align: right;\n",
       "    }\n",
       "</style>\n",
       "<table border=\"1\" class=\"dataframe\">\n",
       "  <thead>\n",
       "    <tr style=\"text-align: right;\">\n",
       "      <th></th>\n",
       "      <th>day</th>\n",
       "      <th>city</th>\n",
       "      <th>expense</th>\n",
       "      <th>price</th>\n",
       "      <th>payment_source</th>\n",
       "      <th>category</th>\n",
       "    </tr>\n",
       "  </thead>\n",
       "  <tbody>\n",
       "    <tr>\n",
       "      <th>102</th>\n",
       "      <td>24-May</td>\n",
       "      <td>Lhasa</td>\n",
       "      <td>Didi pro aeroporto</td>\n",
       "      <td>NaN</td>\n",
       "      <td>Carol</td>\n",
       "      <td>Transporte</td>\n",
       "    </tr>\n",
       "    <tr>\n",
       "      <th>103</th>\n",
       "      <td>24-May</td>\n",
       "      <td>Lhasa</td>\n",
       "      <td>Almoço hot pot surpresa</td>\n",
       "      <td>438.0</td>\n",
       "      <td>Tica</td>\n",
       "      <td>Alimentação</td>\n",
       "    </tr>\n",
       "    <tr>\n",
       "      <th>104</th>\n",
       "      <td>24-May</td>\n",
       "      <td>Lhasa</td>\n",
       "      <td>Show Princesa Wejcheng</td>\n",
       "      <td>840.0</td>\n",
       "      <td>Tica</td>\n",
       "      <td>Ingressos</td>\n",
       "    </tr>\n",
       "    <tr>\n",
       "      <th>105</th>\n",
       "      <td>24-May</td>\n",
       "      <td>Lhasa</td>\n",
       "      <td>Comidas</td>\n",
       "      <td>30.0</td>\n",
       "      <td>Carol/Renata</td>\n",
       "      <td>Alimentação</td>\n",
       "    </tr>\n",
       "  </tbody>\n",
       "</table>\n",
       "</div>"
      ],
      "text/plain": [
       "        day   city                  expense  price payment_source     category\n",
       "102  24-May  Lhasa       Didi pro aeroporto    NaN          Carol   Transporte\n",
       "103  24-May  Lhasa  Almoço hot pot surpresa  438.0           Tica  Alimentação\n",
       "104  24-May  Lhasa   Show Princesa Wejcheng  840.0           Tica    Ingressos\n",
       "105  24-May  Lhasa                  Comidas   30.0   Carol/Renata  Alimentação"
      ]
     },
     "execution_count": 106,
     "metadata": {},
     "output_type": "execute_result"
    }
   ],
   "source": [
    "# Filter to get only the rows from May 23rd\n",
    "may_24 = raw[raw[\"day\"] == \"24-May\"]\n",
    "may_24"
   ]
  },
  {
   "cell_type": "markdown",
   "id": "6c42bcc3-6376-4962-a4e2-e374b27cdf61",
   "metadata": {
    "editable": true,
    "slideshow": {
     "slide_type": ""
    },
    "tags": []
   },
   "source": [
    "Focus on line 105, the Princess Wejcheng show. There were three of us and the ticket prices were imputed separately, separated by a plus(+) sign.\n",
    "<br><br>\n",
    "![image](../02_check/check3.png)\n",
    "<br><br>\n",
    "DeepSeek took the liberty of adding up the values and got the math right (320 + 320 + 200 = 840). It kind of saved us the hassle of finding the same expense duplicated and adding the values ourselves."
   ]
  },
  {
   "cell_type": "markdown",
   "id": "101b3789-8791-40bf-8041-eda6393c026a",
   "metadata": {},
   "source": [
    "#### 2.2: Classification\n",
    "Now let's see how good DeepSeek was at classifying our expenses into the categories I defined:\n",
    "<br>\n",
    "*Transportation (\"Transporte\")\n",
    "<br>\n",
    "Food (\"Alimentação\")\n",
    "<br>\n",
    "Hotels (\"Hospedagem\")\n",
    "<br>\n",
    "Entrance tickets (\"Ingresso\")\n",
    "<br>\n",
    "Shopping, presents and souvenirs (\"Compras/Presentes\")*"
   ]
  },
  {
   "cell_type": "code",
   "execution_count": 107,
   "id": "353768a1-bc68-430a-a19f-ea6b54cbfb84",
   "metadata": {
    "editable": true,
    "slideshow": {
     "slide_type": ""
    },
    "tags": []
   },
   "outputs": [
    {
     "data": {
      "text/plain": [
       "category\n",
       "Transporte    22\n",
       "Name: count, dtype: int64"
      ]
     },
     "execution_count": 107,
     "metadata": {},
     "output_type": "execute_result"
    }
   ],
   "source": [
    "# Search for all the rows where the description of the expense starts with \"Didi\".\n",
    "# This is a clear sign of a transportation expense (Didi is China's Lyft).\n",
    "# Then we will group by category and check how many are there:\n",
    "didi = raw.loc[raw.expense.str.startswith(\"Didi\", na=True)]\\\n",
    ".groupby(\"category\")[\"category\"].value_counts()\n",
    "didi"
   ]
  },
  {
   "cell_type": "markdown",
   "id": "e76d9fd6-3a72-46e5-a639-ce4422f921d8",
   "metadata": {
    "editable": true,
    "slideshow": {
     "slide_type": ""
    },
    "tags": []
   },
   "source": [
    " Perfect, seems like it was able to identify every Didi trip as a transportation expense!\n",
    "<br><br>\n",
    "Let's try the same for the words \"Almoço\" (lunch), \"Jantar\" (dinner), \"Café\" (coffee), \"Água\" (water) and \"Suco\" (juice)."
   ]
  },
  {
   "cell_type": "code",
   "execution_count": 108,
   "id": "55014340-d06c-4398-a6a9-a8a8491d47c4",
   "metadata": {},
   "outputs": [
    {
     "data": {
      "text/plain": [
       "category\n",
       "Alimentação    29\n",
       "Name: count, dtype: int64"
      ]
     },
     "execution_count": 108,
     "metadata": {},
     "output_type": "execute_result"
    }
   ],
   "source": [
    "# Search for all the rows that contain the words above:\n",
    "\n",
    "# First, set a pattern with the words\n",
    "pattern = \"Almoço|Jantar|Café|Água|Suco\"\n",
    "\n",
    "# Then filter the dataset to get the rows that contain one of the words in your pattern\n",
    "# And group your new dataset by category, then count how many rows are of each category\n",
    "food = raw.loc[raw.expense.str.contains(pattern, na=True)]\\\n",
    ".groupby(\"category\")[\"category\"].value_counts()\n",
    "food"
   ]
  },
  {
   "cell_type": "markdown",
   "id": "a09252dc-33c7-4f33-bd61-aee711e53d21",
   "metadata": {},
   "source": [
    "Great: all expenses with words relating to food or meal were correctly classified."
   ]
  },
  {
   "cell_type": "markdown",
   "id": "fd4feb06-390b-4c7d-9d62-d49ae5e8713b",
   "metadata": {},
   "source": [
    "#### 2.3: Math check\n",
    "Now, let's simply check a few of the values on the \"price\" column, just to see if any hallucination has left us with crazy prices for anything:"
   ]
  },
  {
   "cell_type": "code",
   "execution_count": 109,
   "id": "4eaaad71-1361-4da1-a80b-4f26f8ebbbe5",
   "metadata": {
    "editable": true,
    "slideshow": {
     "slide_type": ""
    },
    "tags": []
   },
   "outputs": [
    {
     "data": {
      "text/html": [
       "<div>\n",
       "<style scoped>\n",
       "    .dataframe tbody tr th:only-of-type {\n",
       "        vertical-align: middle;\n",
       "    }\n",
       "\n",
       "    .dataframe tbody tr th {\n",
       "        vertical-align: top;\n",
       "    }\n",
       "\n",
       "    .dataframe thead th {\n",
       "        text-align: right;\n",
       "    }\n",
       "</style>\n",
       "<table border=\"1\" class=\"dataframe\">\n",
       "  <thead>\n",
       "    <tr style=\"text-align: right;\">\n",
       "      <th></th>\n",
       "      <th>day</th>\n",
       "      <th>city</th>\n",
       "      <th>expense</th>\n",
       "      <th>price</th>\n",
       "      <th>payment_source</th>\n",
       "      <th>category</th>\n",
       "    </tr>\n",
       "  </thead>\n",
       "  <tbody>\n",
       "    <tr>\n",
       "      <th>59</th>\n",
       "      <td>18-May</td>\n",
       "      <td>Xangai</td>\n",
       "      <td>Passagem avião Xangai-Pequim</td>\n",
       "      <td>1460.0</td>\n",
       "      <td>Tica</td>\n",
       "      <td>Transporte</td>\n",
       "    </tr>\n",
       "    <tr>\n",
       "      <th>74</th>\n",
       "      <td>19-May</td>\n",
       "      <td>Xangai</td>\n",
       "      <td>Uniqlo haul</td>\n",
       "      <td>1162.0</td>\n",
       "      <td>Paula</td>\n",
       "      <td>Compras/Presentes</td>\n",
       "    </tr>\n",
       "    <tr>\n",
       "      <th>104</th>\n",
       "      <td>24-May</td>\n",
       "      <td>Lhasa</td>\n",
       "      <td>Show Princesa Wejcheng</td>\n",
       "      <td>840.0</td>\n",
       "      <td>Tica</td>\n",
       "      <td>Ingressos</td>\n",
       "    </tr>\n",
       "    <tr>\n",
       "      <th>44</th>\n",
       "      <td>16-May</td>\n",
       "      <td>Pequim</td>\n",
       "      <td>Jantar no Migas (espanhol)</td>\n",
       "      <td>645.0</td>\n",
       "      <td>Diva</td>\n",
       "      <td>Alimentação</td>\n",
       "    </tr>\n",
       "    <tr>\n",
       "      <th>103</th>\n",
       "      <td>24-May</td>\n",
       "      <td>Lhasa</td>\n",
       "      <td>Almoço hot pot surpresa</td>\n",
       "      <td>438.0</td>\n",
       "      <td>Tica</td>\n",
       "      <td>Alimentação</td>\n",
       "    </tr>\n",
       "    <tr>\n",
       "      <th>...</th>\n",
       "      <td>...</td>\n",
       "      <td>...</td>\n",
       "      <td>...</td>\n",
       "      <td>...</td>\n",
       "      <td>...</td>\n",
       "      <td>...</td>\n",
       "    </tr>\n",
       "    <tr>\n",
       "      <th>70</th>\n",
       "      <td>19-May</td>\n",
       "      <td>Xangai</td>\n",
       "      <td>Coquinha</td>\n",
       "      <td>6.0</td>\n",
       "      <td>Diva</td>\n",
       "      <td>Alimentação</td>\n",
       "    </tr>\n",
       "    <tr>\n",
       "      <th>30</th>\n",
       "      <td>14-May</td>\n",
       "      <td>Datong</td>\n",
       "      <td>Lencinhos</td>\n",
       "      <td>5.4</td>\n",
       "      <td>Diva</td>\n",
       "      <td>Compras/Presentes</td>\n",
       "    </tr>\n",
       "    <tr>\n",
       "      <th>55</th>\n",
       "      <td>18-May</td>\n",
       "      <td>Suzhou</td>\n",
       "      <td>Metro</td>\n",
       "      <td>4.0</td>\n",
       "      <td>Diva</td>\n",
       "      <td>Transporte</td>\n",
       "    </tr>\n",
       "    <tr>\n",
       "      <th>64</th>\n",
       "      <td>19-May</td>\n",
       "      <td>Xangai</td>\n",
       "      <td>Barco</td>\n",
       "      <td>4.0</td>\n",
       "      <td>Cada uma</td>\n",
       "      <td>Transporte</td>\n",
       "    </tr>\n",
       "    <tr>\n",
       "      <th>67</th>\n",
       "      <td>19-May</td>\n",
       "      <td>Xangai</td>\n",
       "      <td>Alguma coisa de 2 yuan</td>\n",
       "      <td>2.0</td>\n",
       "      <td>Diva</td>\n",
       "      <td>Compras/Presentes</td>\n",
       "    </tr>\n",
       "  </tbody>\n",
       "</table>\n",
       "<p>122 rows × 6 columns</p>\n",
       "</div>"
      ],
      "text/plain": [
       "        day    city                       expense   price payment_source  \\\n",
       "59   18-May  Xangai  Passagem avião Xangai-Pequim  1460.0           Tica   \n",
       "74   19-May  Xangai                   Uniqlo haul  1162.0          Paula   \n",
       "104  24-May   Lhasa        Show Princesa Wejcheng   840.0           Tica   \n",
       "44   16-May  Pequim    Jantar no Migas (espanhol)   645.0           Diva   \n",
       "103  24-May   Lhasa       Almoço hot pot surpresa   438.0           Tica   \n",
       "..      ...     ...                           ...     ...            ...   \n",
       "70   19-May  Xangai                      Coquinha     6.0           Diva   \n",
       "30   14-May  Datong                     Lencinhos     5.4           Diva   \n",
       "55   18-May  Suzhou                         Metro     4.0           Diva   \n",
       "64   19-May  Xangai                         Barco     4.0       Cada uma   \n",
       "67   19-May  Xangai        Alguma coisa de 2 yuan     2.0           Diva   \n",
       "\n",
       "              category  \n",
       "59          Transporte  \n",
       "74   Compras/Presentes  \n",
       "104          Ingressos  \n",
       "44         Alimentação  \n",
       "103        Alimentação  \n",
       "..                 ...  \n",
       "70         Alimentação  \n",
       "30   Compras/Presentes  \n",
       "55          Transporte  \n",
       "64          Transporte  \n",
       "67   Compras/Presentes  \n",
       "\n",
       "[122 rows x 6 columns]"
      ]
     },
     "execution_count": 109,
     "metadata": {},
     "output_type": "execute_result"
    }
   ],
   "source": [
    "# Arrange the expenses according to their price\n",
    "# But first, remove the NAs so we can see more details\n",
    "raw.dropna(subset=[\"price\"]).sort_values(\"price\", ascending=False)"
   ]
  },
  {
   "cell_type": "markdown",
   "id": "3365c645-a367-4fea-9785-341238bdbd0a",
   "metadata": {
    "editable": true,
    "slideshow": {
     "slide_type": ""
    },
    "tags": []
   },
   "source": [
    "Sounds about right that two plane tickets, a shopping spree from a Uniqlo first timer, a show and two special meals in good restaurants would be in the top 5 highest expenses."
   ]
  },
  {
   "cell_type": "markdown",
   "id": "5e1dc434-b071-4dad-9852-b28f910732c1",
   "metadata": {},
   "source": [
    "#### 2.4: Discrete variables\n",
    "Finally, let's see if the variables with few options of values (city, payment_source and category) don't have anything too crazy:"
   ]
  },
  {
   "cell_type": "code",
   "execution_count": 112,
   "id": "65144906-7b1c-46ab-a04a-9f24280296ed",
   "metadata": {},
   "outputs": [
    {
     "data": {
      "text/plain": [
       "array(['Pequim', 'Datong', 'Suzhou', 'Xangai', 'Lhasa', 'Shigatse'],\n",
       "      dtype=object)"
      ]
     },
     "execution_count": 112,
     "metadata": {},
     "output_type": "execute_result"
    }
   ],
   "source": [
    "# Get unique values of cities:\n",
    "raw.city.unique()"
   ]
  },
  {
   "cell_type": "code",
   "execution_count": 113,
   "id": "ca1e8508-18fc-4bbe-aa18-a76ddec526d5",
   "metadata": {},
   "outputs": [
    {
     "data": {
      "text/plain": [
       "array(['Carol', 'Diva', 'Tica', 'Cada uma', 'Paula', 'Carol/Renata',\n",
       "       'Renata'], dtype=object)"
      ]
     },
     "execution_count": 113,
     "metadata": {},
     "output_type": "execute_result"
    }
   ],
   "source": [
    "# Get unique values of who paid for what:\n",
    "raw.payment_source.unique()"
   ]
  },
  {
   "cell_type": "code",
   "execution_count": 114,
   "id": "a4ae78bd-c4bd-47cc-a544-dbd9b25bdd00",
   "metadata": {},
   "outputs": [
    {
     "data": {
      "text/plain": [
       "array(['Transporte', 'Compras/Presentes', 'Alimentação', 'Ingressos'],\n",
       "      dtype=object)"
      ]
     },
     "execution_count": 114,
     "metadata": {},
     "output_type": "execute_result"
    }
   ],
   "source": [
    "# Get unique values of categories:\n",
    "raw.category.unique()"
   ]
  },
  {
   "cell_type": "markdown",
   "id": "1d35321f-3f23-4754-afd5-58bf5fcc37eb",
   "metadata": {},
   "source": [
    "Now, here's a *tiny* problem: one of the categories was supposed to be hotels. I've seen at least one, but there is no such category listed. (DeepSeek also renamed by \"Compras/presentes/souvernirs\" category to simply \"Compras/Presentes\", but that's not a hallucination nor a serious crime.)\n",
    "<br><br>\n",
    "Let's find out how it classified any hotels:"
   ]
  },
  {
   "cell_type": "code",
   "execution_count": 115,
   "id": "5a29de4e-b243-4314-a16d-8ae1303aaa94",
   "metadata": {},
   "outputs": [
    {
     "data": {
      "text/plain": [
       "category\n",
       "Alimentação          3\n",
       "Compras/Presentes    1\n",
       "Transporte           3\n",
       "Name: count, dtype: int64"
      ]
     },
     "execution_count": 115,
     "metadata": {},
     "output_type": "execute_result"
    }
   ],
   "source": [
    "# Search for all the rows where the description of the expense contains \"Hotel\" or \"hotel\".\n",
    "# This is a clear sign of a hotel expense.\n",
    "# In Portuguese, I asked it to name the category \"Hospedagem\", which means \"Lodging\".\n",
    "# Afterwards, group the results by category and check how many are there:\n",
    "\n",
    "hotels = \"Hotel|hotel\"\n",
    "\n",
    "hotel = raw.loc[raw.expense.str.contains(hotels, na=True)]\\\n",
    ".groupby(\"category\")[\"category\"].value_counts()\n",
    "hotel"
   ]
  },
  {
   "cell_type": "markdown",
   "id": "3d085c40-7c8a-4a45-9f9a-64f694ded9fb",
   "metadata": {},
   "source": [
    "**Note:** In this broader search we used \"str.contains\", so we're including any expense that could have been \"taxi to the hotel\", and not a hotel spending per se. But there should have been a category called \"Hotel\".\n",
    "<br><br>\n",
    "We'll try again, this time with \"str.startswith\":"
   ]
  },
  {
   "cell_type": "code",
   "execution_count": 116,
   "id": "6611c8ef-80f4-499a-adef-3f718fe3eb9f",
   "metadata": {
    "editable": true,
    "slideshow": {
     "slide_type": ""
    },
    "tags": []
   },
   "outputs": [
    {
     "data": {
      "text/plain": [
       "Series([], Name: count, dtype: int64)"
      ]
     },
     "execution_count": 116,
     "metadata": {},
     "output_type": "execute_result"
    }
   ],
   "source": [
    "hotel_beginning = raw.loc[raw.expense.str.startswith(hotels, na=True)]\\\n",
    ".groupby(\"category\")[\"category\"].value_counts()\n",
    "hotel_beginning"
   ]
  },
  {
   "cell_type": "markdown",
   "id": "7a95ca42-626a-4cd0-a61e-e57e082ee83b",
   "metadata": {
    "editable": true,
    "slideshow": {
     "slide_type": ""
    },
    "tags": []
   },
   "source": [
    "Alright, there are no rows in the \"expense\" column starting with \"Hotel\" or \"hotel\". So I'll go back to a manual Ctrl+F in my raw .txt file to see what's going on:\n",
    "<br><br>\n",
    "![image](../02_check/check4.png)\n",
    "<br><br>\n",
    "Problem found: there is only one entry for an actual hotel expense, and it was one of the worst inputs of the messy dataset:\n",
    "<br>\n",
    "1- There's one line above saying simply \"Hotel\".\n",
    "<br>\n",
    "2- And the line with the hotel spending description is completely different from the other patterns I tried to use. I detailed how many people, how many nights and even the price of the breakfast that was included (I must have felt so creative at the time!).\n",
    "<br>\n",
    "And the description doesn't even start with the word \"Hotel\". No wonder DeepSeek was thrown off from thinking this was a hotel expense.\n",
    "<br><br>\n",
    "The Ctrl+F search also shows that the other entries citing a hotel are clearly not a hotel expense.\n",
    "<br><br>\n",
    "So I only have one row to fix, let's go find it!"
   ]
  },
  {
   "cell_type": "code",
   "execution_count": 117,
   "id": "60deb2b4-4820-4883-b4b4-f7adb514392a",
   "metadata": {
    "editable": true,
    "slideshow": {
     "slide_type": ""
    },
    "tags": []
   },
   "outputs": [
    {
     "data": {
      "text/html": [
       "<div>\n",
       "<style scoped>\n",
       "    .dataframe tbody tr th:only-of-type {\n",
       "        vertical-align: middle;\n",
       "    }\n",
       "\n",
       "    .dataframe tbody tr th {\n",
       "        vertical-align: top;\n",
       "    }\n",
       "\n",
       "    .dataframe thead th {\n",
       "        text-align: right;\n",
       "    }\n",
       "</style>\n",
       "<table border=\"1\" class=\"dataframe\">\n",
       "  <thead>\n",
       "    <tr style=\"text-align: right;\">\n",
       "      <th></th>\n",
       "      <th>day</th>\n",
       "      <th>city</th>\n",
       "      <th>expense</th>\n",
       "      <th>price</th>\n",
       "      <th>payment_source</th>\n",
       "      <th>category</th>\n",
       "    </tr>\n",
       "  </thead>\n",
       "  <tbody>\n",
       "  </tbody>\n",
       "</table>\n",
       "</div>"
      ],
      "text/plain": [
       "Empty DataFrame\n",
       "Columns: [day, city, expense, price, payment_source, category]\n",
       "Index: []"
      ]
     },
     "execution_count": 117,
     "metadata": {},
     "output_type": "execute_result"
    }
   ],
   "source": [
    "missing_hotel = raw.loc[raw.expense.str.contains(\"International Hotel\", na=True)]\n",
    "missing_hotel"
   ]
  },
  {
   "cell_type": "markdown",
   "id": "dfc2b6b8-3d27-4588-a0d1-3936047f8f8c",
   "metadata": {},
   "source": [
    "Bad sign, there seems to be no line with the works \"International Hotel\"...\n",
    "<br><br>\n",
    "Maybe DeepSeek was so distraught by the input it simply decided to ignore it?"
   ]
  },
  {
   "cell_type": "code",
   "execution_count": 118,
   "id": "5be3fbcb-f441-4e0b-9073-3418ac5eece9",
   "metadata": {},
   "outputs": [
    {
     "data": {
      "text/html": [
       "<div>\n",
       "<style scoped>\n",
       "    .dataframe tbody tr th:only-of-type {\n",
       "        vertical-align: middle;\n",
       "    }\n",
       "\n",
       "    .dataframe tbody tr th {\n",
       "        vertical-align: top;\n",
       "    }\n",
       "\n",
       "    .dataframe thead th {\n",
       "        text-align: right;\n",
       "    }\n",
       "</style>\n",
       "<table border=\"1\" class=\"dataframe\">\n",
       "  <thead>\n",
       "    <tr style=\"text-align: right;\">\n",
       "      <th></th>\n",
       "      <th>day</th>\n",
       "      <th>city</th>\n",
       "      <th>expense</th>\n",
       "      <th>price</th>\n",
       "      <th>payment_source</th>\n",
       "      <th>category</th>\n",
       "    </tr>\n",
       "  </thead>\n",
       "  <tbody>\n",
       "    <tr>\n",
       "      <th>11</th>\n",
       "      <td>13-May</td>\n",
       "      <td>Pequim</td>\n",
       "      <td>Didi pro Templo do Céu</td>\n",
       "      <td>45.00</td>\n",
       "      <td>Carol</td>\n",
       "      <td>Transporte</td>\n",
       "    </tr>\n",
       "    <tr>\n",
       "      <th>12</th>\n",
       "      <td>13-May</td>\n",
       "      <td>Pequim</td>\n",
       "      <td>Ingresso Templo do Céu</td>\n",
       "      <td>34.00</td>\n",
       "      <td>Carol</td>\n",
       "      <td>Ingressos</td>\n",
       "    </tr>\n",
       "    <tr>\n",
       "      <th>13</th>\n",
       "      <td>13-May</td>\n",
       "      <td>Pequim</td>\n",
       "      <td>Icetea de limão</td>\n",
       "      <td>8.00</td>\n",
       "      <td>Carol</td>\n",
       "      <td>Alimentação</td>\n",
       "    </tr>\n",
       "    <tr>\n",
       "      <th>14</th>\n",
       "      <td>13-May</td>\n",
       "      <td>Pequim</td>\n",
       "      <td>Bolsa e marcador de página</td>\n",
       "      <td>78.00</td>\n",
       "      <td>Carol</td>\n",
       "      <td>Compras/Presentes</td>\n",
       "    </tr>\n",
       "    <tr>\n",
       "      <th>15</th>\n",
       "      <td>13-May</td>\n",
       "      <td>Pequim</td>\n",
       "      <td>Metrô</td>\n",
       "      <td>10.00</td>\n",
       "      <td>Carol</td>\n",
       "      <td>Transporte</td>\n",
       "    </tr>\n",
       "    <tr>\n",
       "      <th>16</th>\n",
       "      <td>13-May</td>\n",
       "      <td>Pequim</td>\n",
       "      <td>Didi pra Beijingbei</td>\n",
       "      <td>53.73</td>\n",
       "      <td>Carol</td>\n",
       "      <td>Transporte</td>\n",
       "    </tr>\n",
       "    <tr>\n",
       "      <th>17</th>\n",
       "      <td>13-May</td>\n",
       "      <td>Datong</td>\n",
       "      <td>Didi pro Hotel Weidu em Datong</td>\n",
       "      <td>18.20</td>\n",
       "      <td>Carol</td>\n",
       "      <td>Transporte</td>\n",
       "    </tr>\n",
       "    <tr>\n",
       "      <th>18</th>\n",
       "      <td>13-May</td>\n",
       "      <td>Datong</td>\n",
       "      <td>Dois cafés da manhã do hotel</td>\n",
       "      <td>116.00</td>\n",
       "      <td>Diva</td>\n",
       "      <td>Alimentação</td>\n",
       "    </tr>\n",
       "    <tr>\n",
       "      <th>19</th>\n",
       "      <td>13-May</td>\n",
       "      <td>Datong</td>\n",
       "      <td>Didi pro restaurante Zini 369</td>\n",
       "      <td>7.30</td>\n",
       "      <td>Diva</td>\n",
       "      <td>Transporte</td>\n",
       "    </tr>\n",
       "    <tr>\n",
       "      <th>20</th>\n",
       "      <td>13-May</td>\n",
       "      <td>Datong</td>\n",
       "      <td>Jantar Zini 369</td>\n",
       "      <td>66.00</td>\n",
       "      <td>Diva</td>\n",
       "      <td>Alimentação</td>\n",
       "    </tr>\n",
       "    <tr>\n",
       "      <th>21</th>\n",
       "      <td>13-May</td>\n",
       "      <td>Datong</td>\n",
       "      <td>Suco de maçã</td>\n",
       "      <td>7.00</td>\n",
       "      <td>Carol</td>\n",
       "      <td>Alimentação</td>\n",
       "    </tr>\n",
       "    <tr>\n",
       "      <th>22</th>\n",
       "      <td>13-May</td>\n",
       "      <td>Datong</td>\n",
       "      <td>Didi pro hotel</td>\n",
       "      <td>7.50</td>\n",
       "      <td>Diva</td>\n",
       "      <td>Transporte</td>\n",
       "    </tr>\n",
       "  </tbody>\n",
       "</table>\n",
       "</div>"
      ],
      "text/plain": [
       "       day    city                         expense   price payment_source  \\\n",
       "11  13-May  Pequim          Didi pro Templo do Céu   45.00          Carol   \n",
       "12  13-May  Pequim          Ingresso Templo do Céu   34.00          Carol   \n",
       "13  13-May  Pequim                 Icetea de limão    8.00          Carol   \n",
       "14  13-May  Pequim      Bolsa e marcador de página   78.00          Carol   \n",
       "15  13-May  Pequim                           Metrô   10.00          Carol   \n",
       "16  13-May  Pequim             Didi pra Beijingbei   53.73          Carol   \n",
       "17  13-May  Datong  Didi pro Hotel Weidu em Datong   18.20          Carol   \n",
       "18  13-May  Datong    Dois cafés da manhã do hotel  116.00           Diva   \n",
       "19  13-May  Datong   Didi pro restaurante Zini 369    7.30           Diva   \n",
       "20  13-May  Datong                 Jantar Zini 369   66.00           Diva   \n",
       "21  13-May  Datong                    Suco de maçã    7.00          Carol   \n",
       "22  13-May  Datong                  Didi pro hotel    7.50           Diva   \n",
       "\n",
       "             category  \n",
       "11         Transporte  \n",
       "12          Ingressos  \n",
       "13        Alimentação  \n",
       "14  Compras/Presentes  \n",
       "15         Transporte  \n",
       "16         Transporte  \n",
       "17         Transporte  \n",
       "18        Alimentação  \n",
       "19         Transporte  \n",
       "20        Alimentação  \n",
       "21        Alimentação  \n",
       "22         Transporte  "
      ]
     },
     "execution_count": 118,
     "metadata": {},
     "output_type": "execute_result"
    }
   ],
   "source": [
    "# Fetch all expenses from May 13th\n",
    "may_13 = raw[raw[\"day\"] == \"13-May\"]\n",
    "may_13"
   ]
  },
  {
   "cell_type": "markdown",
   "id": "a4a3f660-b46e-471b-b39a-9b1a31ba8953",
   "metadata": {},
   "source": [
    "Yup, looks like the only hotel on our original list is missing on the AI generated version. \n",
    "<br><br>\n",
    "(This happened because on some cities the hotels were included in the tour package or the reservation was made by my sister and I didn't bother fetching the price to write it down.)\n",
    "<br><br>\n",
    "**Conclusion:** All in all, the job was pretty well done for a task that didn't really require the most extreme precision. And it seems we have enough interesting data to go ahead with the cleaning part. Let's save this in a CSV and move to the [data cleaning notebook](../03_notebooks/01_data_cleaning.ipynb):"
   ]
  },
  {
   "cell_type": "code",
   "execution_count": 120,
   "id": "4971127d-b60b-4bbe-b314-6b6b6f015217",
   "metadata": {},
   "outputs": [],
   "source": [
    "raw.to_csv(\"../00_raw/china_raw.csv\", index=False)"
   ]
  }
 ],
 "metadata": {
  "kernelspec": {
   "display_name": "Python 3 (ipykernel)",
   "language": "python",
   "name": "python3"
  },
  "language_info": {
   "codemirror_mode": {
    "name": "ipython",
    "version": 3
   },
   "file_extension": ".py",
   "mimetype": "text/x-python",
   "name": "python",
   "nbconvert_exporter": "python",
   "pygments_lexer": "ipython3",
   "version": "3.11.8"
  }
 },
 "nbformat": 4,
 "nbformat_minor": 5
}
